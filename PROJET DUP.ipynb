{
 "cells": [
  {
   "cell_type": "code",
   "execution_count": 1,
   "id": "daf10872",
   "metadata": {
    "scrolled": false
   },
   "outputs": [
    {
     "name": "stdout",
     "output_type": "stream",
     "text": [
      "<class 'pandas.core.frame.DataFrame'>\n",
      "   observation         pays  natal    urb\n",
      "0            1       canada   55.0   16.2\n",
      "1            2  costa rica    27.3   30.5\n",
      "2            3         cuba   33.3   16.9\n",
      "3            4          usa    NaN   16.0\n",
      "4            5  el salvador   11.5  102.2\n"
     ]
    }
   ],
   "source": [
    "import pandas as pd \n",
    "observation=pd.read_csv(\"observation1.csv\",sep=\";\")\n",
    "import numpy as np\n",
    "import warnings\n",
    "warnings.filterwarnings('ignore')\n",
    "print(type(observation)) \n",
    "print(observation.head()) "
   ]
  },
  {
   "cell_type": "markdown",
   "id": "342154cd",
   "metadata": {},
   "source": [
    " # description de data\n"
   ]
  },
  {
   "cell_type": "code",
   "execution_count": 2,
   "id": "8520a390",
   "metadata": {},
   "outputs": [
    {
     "data": {
      "text/html": [
       "<div>\n",
       "<style scoped>\n",
       "    .dataframe tbody tr th:only-of-type {\n",
       "        vertical-align: middle;\n",
       "    }\n",
       "\n",
       "    .dataframe tbody tr th {\n",
       "        vertical-align: top;\n",
       "    }\n",
       "\n",
       "    .dataframe thead th {\n",
       "        text-align: right;\n",
       "    }\n",
       "</style>\n",
       "<table border=\"1\" class=\"dataframe\">\n",
       "  <thead>\n",
       "    <tr style=\"text-align: right;\">\n",
       "      <th></th>\n",
       "      <th>observation</th>\n",
       "      <th>natal</th>\n",
       "      <th>urb</th>\n",
       "    </tr>\n",
       "  </thead>\n",
       "  <tbody>\n",
       "    <tr>\n",
       "      <th>count</th>\n",
       "      <td>10.00000</td>\n",
       "      <td>7.000000</td>\n",
       "      <td>10.000000</td>\n",
       "    </tr>\n",
       "    <tr>\n",
       "      <th>mean</th>\n",
       "      <td>5.50000</td>\n",
       "      <td>31.185714</td>\n",
       "      <td>36.760000</td>\n",
       "    </tr>\n",
       "    <tr>\n",
       "      <th>std</th>\n",
       "      <td>3.02765</td>\n",
       "      <td>15.524435</td>\n",
       "      <td>25.218432</td>\n",
       "    </tr>\n",
       "    <tr>\n",
       "      <th>min</th>\n",
       "      <td>1.00000</td>\n",
       "      <td>11.500000</td>\n",
       "      <td>16.000000</td>\n",
       "    </tr>\n",
       "    <tr>\n",
       "      <th>25%</th>\n",
       "      <td>3.25000</td>\n",
       "      <td>20.600000</td>\n",
       "      <td>19.750000</td>\n",
       "    </tr>\n",
       "    <tr>\n",
       "      <th>50%</th>\n",
       "      <td>5.50000</td>\n",
       "      <td>33.100000</td>\n",
       "      <td>32.200000</td>\n",
       "    </tr>\n",
       "    <tr>\n",
       "      <th>75%</th>\n",
       "      <td>7.75000</td>\n",
       "      <td>38.750000</td>\n",
       "      <td>40.575000</td>\n",
       "    </tr>\n",
       "    <tr>\n",
       "      <th>max</th>\n",
       "      <td>10.00000</td>\n",
       "      <td>55.000000</td>\n",
       "      <td>102.200000</td>\n",
       "    </tr>\n",
       "  </tbody>\n",
       "</table>\n",
       "</div>"
      ],
      "text/plain": [
       "       observation      natal         urb\n",
       "count     10.00000   7.000000   10.000000\n",
       "mean       5.50000  31.185714   36.760000\n",
       "std        3.02765  15.524435   25.218432\n",
       "min        1.00000  11.500000   16.000000\n",
       "25%        3.25000  20.600000   19.750000\n",
       "50%        5.50000  33.100000   32.200000\n",
       "75%        7.75000  38.750000   40.575000\n",
       "max       10.00000  55.000000  102.200000"
      ]
     },
     "execution_count": 2,
     "metadata": {},
     "output_type": "execute_result"
    }
   ],
   "source": [
    "observation.describe()"
   ]
  },
  {
   "cell_type": "markdown",
   "id": "4f0dd02a",
   "metadata": {},
   "source": [
    "# histogramme"
   ]
  },
  {
   "cell_type": "code",
   "execution_count": 3,
   "id": "37521971",
   "metadata": {},
   "outputs": [],
   "source": [
    "import matplotlib.pyplot as plt\n",
    "def Histogram_urb (observation=observation):\n",
    "    plt.style.use('ggplot')\n",
    "    plt.hist(observation['urb'],rwidth=0.5,bins=13)    \n",
    "    plt.show()"
   ]
  },
  {
   "cell_type": "code",
   "execution_count": 4,
   "id": "e1876a7d",
   "metadata": {},
   "outputs": [
    {
     "data": {
      "image/png": "[encoded data removed]",
      "text/plain": [
       "<Figure size 432x288 with 1 Axes>"
      ]
     },
     "metadata": {},
     "output_type": "display_data"
    }
   ],
   "source": [
    "Histogram_urb()"
   ]
  },
  {
   "cell_type": "code",
   "execution_count": 5,
   "id": "eab3f0a5",
   "metadata": {},
   "outputs": [],
   "source": [
    "import seaborn as sns   \n",
    "def DensityPlot(observation=observation):\n",
    "    plt.style.use('ggplot') \n",
    "    sns.distplot(a=observation.urb,hist=False)  \n",
    "    plt.show()       "
   ]
  },
  {
   "cell_type": "code",
   "execution_count": 6,
   "id": "17d53441",
   "metadata": {},
   "outputs": [
    {
     "data": {
      "image/png": "[encoded data removed]",
      "text/plain": [
       "<Figure size 432x288 with 1 Axes>"
      ]
     },
     "metadata": {},
     "output_type": "display_data"
    }
   ],
   "source": [
    "DensityPlot()"
   ]
  },
  {
   "cell_type": "markdown",
   "id": "975cc077",
   "metadata": {},
   "source": [
    "# boxplot"
   ]
  },
  {
   "cell_type": "code",
   "execution_count": 7,
   "id": "283803f2",
   "metadata": {
    "scrolled": true
   },
   "outputs": [
    {
     "data": {
      "image/png": "[encoded data removed]",
      "text/plain": [
       "<Figure size 432x288 with 1 Axes>"
      ]
     },
     "metadata": {},
     "output_type": "display_data"
    }
   ],
   "source": [
    "sns.boxplot(x=observation[\"urb\"])\n",
    "plt.show()"
   ]
  },
  {
   "cell_type": "markdown",
   "id": "544b1bf0",
   "metadata": {},
   "source": [
    "# trouver q1 "
   ]
  },
  {
   "cell_type": "code",
   "execution_count": 8,
   "id": "1020e21a",
   "metadata": {},
   "outputs": [],
   "source": [
    "q1=observation[\"urb\"].quantile(q=0.25)\n"
   ]
  },
  {
   "cell_type": "markdown",
   "id": "e08122fc",
   "metadata": {},
   "source": [
    "# trouver q3"
   ]
  },
  {
   "cell_type": "code",
   "execution_count": 9,
   "id": "44078bb0",
   "metadata": {},
   "outputs": [],
   "source": [
    "q3=observation[\"urb\"].quantile(q=0.75)\n"
   ]
  },
  {
   "cell_type": "markdown",
   "id": "d408e852",
   "metadata": {},
   "source": [
    "# affichage de q1 et q3 "
   ]
  },
  {
   "cell_type": "code",
   "execution_count": 10,
   "id": "a103f19e",
   "metadata": {},
   "outputs": [
    {
     "data": {
      "text/plain": [
       "19.75"
      ]
     },
     "execution_count": 10,
     "metadata": {},
     "output_type": "execute_result"
    }
   ],
   "source": [
    "q1"
   ]
  },
  {
   "cell_type": "code",
   "execution_count": 11,
   "id": "188f742e",
   "metadata": {},
   "outputs": [
    {
     "data": {
      "text/plain": [
       "40.574999999999996"
      ]
     },
     "execution_count": 11,
     "metadata": {},
     "output_type": "execute_result"
    }
   ],
   "source": [
    "q3"
   ]
  },
  {
   "cell_type": "markdown",
   "id": "b8638658",
   "metadata": {},
   "source": [
    "# trouver iqr et afficher"
   ]
  },
  {
   "cell_type": "code",
   "execution_count": 12,
   "id": "f0c7d71a",
   "metadata": {},
   "outputs": [],
   "source": [
    "IQR=q3-q1\n"
   ]
  },
  {
   "cell_type": "code",
   "execution_count": 13,
   "id": "44f86d90",
   "metadata": {},
   "outputs": [
    {
     "data": {
      "text/plain": [
       "20.824999999999996"
      ]
     },
     "execution_count": 13,
     "metadata": {},
     "output_type": "execute_result"
    }
   ],
   "source": [
    "IQR"
   ]
  },
  {
   "cell_type": "markdown",
   "id": "8ee3b99f",
   "metadata": {},
   "source": [
    "# borne inf + sub + outliers"
   ]
  },
  {
   "cell_type": "code",
   "execution_count": null,
   "id": "7bf4e301",
   "metadata": {},
   "outputs": [],
   "source": []
  },
  {
   "cell_type": "code",
   "execution_count": 14,
   "id": "9417be6a",
   "metadata": {},
   "outputs": [],
   "source": [
    "borne_inf = q1-1.5*IQR\n"
   ]
  },
  {
   "cell_type": "code",
   "execution_count": 15,
   "id": "7ce63463",
   "metadata": {},
   "outputs": [],
   "source": [
    "borne_sup = q3 +1.5*IQR\n"
   ]
  },
  {
   "cell_type": "code",
   "execution_count": 16,
   "id": "9f28975c",
   "metadata": {},
   "outputs": [
    {
     "data": {
      "text/plain": [
       "-11.487499999999994"
      ]
     },
     "execution_count": 16,
     "metadata": {},
     "output_type": "execute_result"
    }
   ],
   "source": [
    "borne_inf"
   ]
  },
  {
   "cell_type": "code",
   "execution_count": 17,
   "id": "dca2faf0",
   "metadata": {},
   "outputs": [
    {
     "data": {
      "text/plain": [
       "71.81249999999999"
      ]
     },
     "execution_count": 17,
     "metadata": {},
     "output_type": "execute_result"
    }
   ],
   "source": [
    "borne_sup"
   ]
  },
  {
   "cell_type": "code",
   "execution_count": 18,
   "id": "446189ae",
   "metadata": {},
   "outputs": [],
   "source": [
    "outlier= observation[(observation[\"urb\"]>borne_sup)  |  (observation[\"urb\"]<borne_inf)]"
   ]
  },
  {
   "cell_type": "code",
   "execution_count": 19,
   "id": "040840ec",
   "metadata": {},
   "outputs": [
    {
     "data": {
      "text/html": [
       "<div>\n",
       "<style scoped>\n",
       "    .dataframe tbody tr th:only-of-type {\n",
       "        vertical-align: middle;\n",
       "    }\n",
       "\n",
       "    .dataframe tbody tr th {\n",
       "        vertical-align: top;\n",
       "    }\n",
       "\n",
       "    .dataframe thead th {\n",
       "        text-align: right;\n",
       "    }\n",
       "</style>\n",
       "<table border=\"1\" class=\"dataframe\">\n",
       "  <thead>\n",
       "    <tr style=\"text-align: right;\">\n",
       "      <th></th>\n",
       "      <th>observation</th>\n",
       "      <th>pays</th>\n",
       "      <th>natal</th>\n",
       "      <th>urb</th>\n",
       "    </tr>\n",
       "  </thead>\n",
       "  <tbody>\n",
       "    <tr>\n",
       "      <th>4</th>\n",
       "      <td>5</td>\n",
       "      <td>el salvador</td>\n",
       "      <td>11.5</td>\n",
       "      <td>102.2</td>\n",
       "    </tr>\n",
       "  </tbody>\n",
       "</table>\n",
       "</div>"
      ],
      "text/plain": [
       "   observation         pays  natal    urb\n",
       "4            5  el salvador   11.5  102.2"
      ]
     },
     "execution_count": 19,
     "metadata": {},
     "output_type": "execute_result"
    }
   ],
   "source": [
    "outlier"
   ]
  },
  {
   "cell_type": "code",
   "execution_count": 20,
   "id": "beb78bfd",
   "metadata": {},
   "outputs": [
    {
     "data": {
      "text/plain": [
       "4"
      ]
     },
     "execution_count": 20,
     "metadata": {},
     "output_type": "execute_result"
    }
   ],
   "source": [
    "outlier.index[0]"
   ]
  },
  {
   "cell_type": "code",
   "execution_count": 21,
   "id": "6a144cd5",
   "metadata": {},
   "outputs": [
    {
     "data": {
      "text/html": [
       "<div>\n",
       "<style scoped>\n",
       "    .dataframe tbody tr th:only-of-type {\n",
       "        vertical-align: middle;\n",
       "    }\n",
       "\n",
       "    .dataframe tbody tr th {\n",
       "        vertical-align: top;\n",
       "    }\n",
       "\n",
       "    .dataframe thead th {\n",
       "        text-align: right;\n",
       "    }\n",
       "</style>\n",
       "<table border=\"1\" class=\"dataframe\">\n",
       "  <thead>\n",
       "    <tr style=\"text-align: right;\">\n",
       "      <th></th>\n",
       "      <th>observation</th>\n",
       "      <th>pays</th>\n",
       "      <th>natal</th>\n",
       "      <th>urb</th>\n",
       "    </tr>\n",
       "  </thead>\n",
       "  <tbody>\n",
       "    <tr>\n",
       "      <th>0</th>\n",
       "      <td>1</td>\n",
       "      <td>canada</td>\n",
       "      <td>55.0</td>\n",
       "      <td>16.2</td>\n",
       "    </tr>\n",
       "    <tr>\n",
       "      <th>1</th>\n",
       "      <td>2</td>\n",
       "      <td>costa rica</td>\n",
       "      <td>27.3</td>\n",
       "      <td>30.5</td>\n",
       "    </tr>\n",
       "    <tr>\n",
       "      <th>2</th>\n",
       "      <td>3</td>\n",
       "      <td>cuba</td>\n",
       "      <td>33.3</td>\n",
       "      <td>16.9</td>\n",
       "    </tr>\n",
       "    <tr>\n",
       "      <th>3</th>\n",
       "      <td>4</td>\n",
       "      <td>usa</td>\n",
       "      <td>NaN</td>\n",
       "      <td>16.0</td>\n",
       "    </tr>\n",
       "    <tr>\n",
       "      <th>5</th>\n",
       "      <td>6</td>\n",
       "      <td>guatemala</td>\n",
       "      <td>NaN</td>\n",
       "      <td>38.4</td>\n",
       "    </tr>\n",
       "    <tr>\n",
       "      <th>6</th>\n",
       "      <td>7</td>\n",
       "      <td>haiti</td>\n",
       "      <td>13.9</td>\n",
       "      <td>41.3</td>\n",
       "    </tr>\n",
       "    <tr>\n",
       "      <th>7</th>\n",
       "      <td>8</td>\n",
       "      <td>honduras</td>\n",
       "      <td>NaN</td>\n",
       "      <td>43.9</td>\n",
       "    </tr>\n",
       "    <tr>\n",
       "      <th>8</th>\n",
       "      <td>9</td>\n",
       "      <td>jamaique</td>\n",
       "      <td>33.1</td>\n",
       "      <td>28.3</td>\n",
       "    </tr>\n",
       "    <tr>\n",
       "      <th>9</th>\n",
       "      <td>10</td>\n",
       "      <td>Mexique</td>\n",
       "      <td>44.2</td>\n",
       "      <td>33.9</td>\n",
       "    </tr>\n",
       "  </tbody>\n",
       "</table>\n",
       "</div>"
      ],
      "text/plain": [
       "   observation         pays  natal   urb\n",
       "0            1       canada   55.0  16.2\n",
       "1            2  costa rica    27.3  30.5\n",
       "2            3         cuba   33.3  16.9\n",
       "3            4          usa    NaN  16.0\n",
       "5            6    guatemala    NaN  38.4\n",
       "6            7        haiti   13.9  41.3\n",
       "7            8     honduras    NaN  43.9\n",
       "8            9     jamaique   33.1  28.3\n",
       "9           10      Mexique   44.2  33.9"
      ]
     },
     "execution_count": 21,
     "metadata": {},
     "output_type": "execute_result"
    }
   ],
   "source": [
    "observation.drop(outlier.index[0])"
   ]
  },
  {
   "cell_type": "markdown",
   "id": "4a0a33ee",
   "metadata": {},
   "source": [
    "# imputation par KNN"
   ]
  },
  {
   "cell_type": "code",
   "execution_count": 22,
   "id": "ff197e6f",
   "metadata": {},
   "outputs": [
    {
     "data": {
      "text/html": [
       "<div>\n",
       "<style scoped>\n",
       "    .dataframe tbody tr th:only-of-type {\n",
       "        vertical-align: middle;\n",
       "    }\n",
       "\n",
       "    .dataframe tbody tr th {\n",
       "        vertical-align: top;\n",
       "    }\n",
       "\n",
       "    .dataframe thead th {\n",
       "        text-align: right;\n",
       "    }\n",
       "</style>\n",
       "<table border=\"1\" class=\"dataframe\">\n",
       "  <thead>\n",
       "    <tr style=\"text-align: right;\">\n",
       "      <th></th>\n",
       "      <th>observation</th>\n",
       "      <th>pays</th>\n",
       "      <th>natal</th>\n",
       "      <th>urb</th>\n",
       "    </tr>\n",
       "  </thead>\n",
       "  <tbody>\n",
       "    <tr>\n",
       "      <th>0</th>\n",
       "      <td>1</td>\n",
       "      <td>1</td>\n",
       "      <td>55.0</td>\n",
       "      <td>16.2</td>\n",
       "    </tr>\n",
       "    <tr>\n",
       "      <th>1</th>\n",
       "      <td>2</td>\n",
       "      <td>2</td>\n",
       "      <td>27.3</td>\n",
       "      <td>30.5</td>\n",
       "    </tr>\n",
       "    <tr>\n",
       "      <th>2</th>\n",
       "      <td>3</td>\n",
       "      <td>3</td>\n",
       "      <td>33.3</td>\n",
       "      <td>16.9</td>\n",
       "    </tr>\n",
       "    <tr>\n",
       "      <th>3</th>\n",
       "      <td>4</td>\n",
       "      <td>9</td>\n",
       "      <td>NaN</td>\n",
       "      <td>16.0</td>\n",
       "    </tr>\n",
       "    <tr>\n",
       "      <th>4</th>\n",
       "      <td>5</td>\n",
       "      <td>4</td>\n",
       "      <td>11.5</td>\n",
       "      <td>102.2</td>\n",
       "    </tr>\n",
       "    <tr>\n",
       "      <th>5</th>\n",
       "      <td>6</td>\n",
       "      <td>5</td>\n",
       "      <td>NaN</td>\n",
       "      <td>38.4</td>\n",
       "    </tr>\n",
       "    <tr>\n",
       "      <th>6</th>\n",
       "      <td>7</td>\n",
       "      <td>6</td>\n",
       "      <td>13.9</td>\n",
       "      <td>41.3</td>\n",
       "    </tr>\n",
       "    <tr>\n",
       "      <th>7</th>\n",
       "      <td>8</td>\n",
       "      <td>7</td>\n",
       "      <td>NaN</td>\n",
       "      <td>43.9</td>\n",
       "    </tr>\n",
       "    <tr>\n",
       "      <th>8</th>\n",
       "      <td>9</td>\n",
       "      <td>8</td>\n",
       "      <td>33.1</td>\n",
       "      <td>28.3</td>\n",
       "    </tr>\n",
       "    <tr>\n",
       "      <th>9</th>\n",
       "      <td>10</td>\n",
       "      <td>0</td>\n",
       "      <td>44.2</td>\n",
       "      <td>33.9</td>\n",
       "    </tr>\n",
       "  </tbody>\n",
       "</table>\n",
       "</div>"
      ],
      "text/plain": [
       "   observation  pays  natal    urb\n",
       "0            1     1   55.0   16.2\n",
       "1            2     2   27.3   30.5\n",
       "2            3     3   33.3   16.9\n",
       "3            4     9    NaN   16.0\n",
       "4            5     4   11.5  102.2\n",
       "5            6     5    NaN   38.4\n",
       "6            7     6   13.9   41.3\n",
       "7            8     7    NaN   43.9\n",
       "8            9     8   33.1   28.3\n",
       "9           10     0   44.2   33.9"
      ]
     },
     "execution_count": 22,
     "metadata": {},
     "output_type": "execute_result"
    }
   ],
   "source": [
    "from sklearn.preprocessing import LabelEncoder\n",
    "from sklearn.impute import KNNImputer\n",
    "label=LabelEncoder()\n",
    "observation['pays']=label.fit_transform(observation['pays'])\n",
    "observation\n"
   ]
  },
  {
   "cell_type": "code",
   "execution_count": 23,
   "id": "d79682f6",
   "metadata": {},
   "outputs": [
    {
     "data": {
      "text/plain": [
       "array([[  1.  ,   1.  ,  55.  ,  16.2 ],\n",
       "       [  2.  ,   2.  ,  27.3 ,  30.5 ],\n",
       "       [  3.  ,   3.  ,  33.3 ,  16.9 ],\n",
       "       [  4.  ,   9.  ,  44.15,  16.  ],\n",
       "       [  5.  ,   4.  ,  11.5 , 102.2 ],\n",
       "       [  6.  ,   5.  ,  29.05,  38.4 ],\n",
       "       [  7.  ,   6.  ,  13.9 ,  41.3 ],\n",
       "       [  8.  ,   7.  ,  29.05,  43.9 ],\n",
       "       [  9.  ,   8.  ,  33.1 ,  28.3 ],\n",
       "       [ 10.  ,   0.  ,  44.2 ,  33.9 ]])"
      ]
     },
     "execution_count": 23,
     "metadata": {},
     "output_type": "execute_result"
    }
   ],
   "source": [
    "imputer = KNNImputer(n_neighbors=2)\n",
    "imp=imputer.fit_transform(observation)\n",
    "imp"
   ]
  },
  {
   "cell_type": "markdown",
   "id": "24b44991",
   "metadata": {},
   "source": [
    "# z_score"
   ]
  },
  {
   "cell_type": "code",
   "execution_count": 24,
   "id": "1d9f195d",
   "metadata": {},
   "outputs": [],
   "source": [
    "from sklearn.preprocessing import StandardScaler\n"
   ]
  },
  {
   "cell_type": "code",
   "execution_count": 25,
   "id": "a430f343",
   "metadata": {},
   "outputs": [],
   "source": [
    "nouveau=observation[['natal','urb']]\n",
    "nouveau\n",
    "from scipy.stats import zscore"
   ]
  },
  {
   "cell_type": "code",
   "execution_count": 26,
   "id": "20ee4009",
   "metadata": {},
   "outputs": [
    {
     "data": {
      "text/html": [
       "<div>\n",
       "<style scoped>\n",
       "    .dataframe tbody tr th:only-of-type {\n",
       "        vertical-align: middle;\n",
       "    }\n",
       "\n",
       "    .dataframe tbody tr th {\n",
       "        vertical-align: top;\n",
       "    }\n",
       "\n",
       "    .dataframe thead th {\n",
       "        text-align: right;\n",
       "    }\n",
       "</style>\n",
       "<table border=\"1\" class=\"dataframe\">\n",
       "  <thead>\n",
       "    <tr style=\"text-align: right;\">\n",
       "      <th></th>\n",
       "      <th>natal</th>\n",
       "      <th>urb</th>\n",
       "    </tr>\n",
       "  </thead>\n",
       "  <tbody>\n",
       "    <tr>\n",
       "      <th>0</th>\n",
       "      <td>55.00</td>\n",
       "      <td>16.2</td>\n",
       "    </tr>\n",
       "    <tr>\n",
       "      <th>1</th>\n",
       "      <td>27.30</td>\n",
       "      <td>30.5</td>\n",
       "    </tr>\n",
       "    <tr>\n",
       "      <th>2</th>\n",
       "      <td>33.30</td>\n",
       "      <td>16.9</td>\n",
       "    </tr>\n",
       "    <tr>\n",
       "      <th>3</th>\n",
       "      <td>44.15</td>\n",
       "      <td>16.0</td>\n",
       "    </tr>\n",
       "    <tr>\n",
       "      <th>4</th>\n",
       "      <td>11.50</td>\n",
       "      <td>102.2</td>\n",
       "    </tr>\n",
       "    <tr>\n",
       "      <th>5</th>\n",
       "      <td>29.05</td>\n",
       "      <td>38.4</td>\n",
       "    </tr>\n",
       "    <tr>\n",
       "      <th>6</th>\n",
       "      <td>13.90</td>\n",
       "      <td>41.3</td>\n",
       "    </tr>\n",
       "    <tr>\n",
       "      <th>7</th>\n",
       "      <td>29.05</td>\n",
       "      <td>43.9</td>\n",
       "    </tr>\n",
       "    <tr>\n",
       "      <th>8</th>\n",
       "      <td>33.10</td>\n",
       "      <td>28.3</td>\n",
       "    </tr>\n",
       "    <tr>\n",
       "      <th>9</th>\n",
       "      <td>44.20</td>\n",
       "      <td>33.9</td>\n",
       "    </tr>\n",
       "  </tbody>\n",
       "</table>\n",
       "</div>"
      ],
      "text/plain": [
       "   natal    urb\n",
       "0  55.00   16.2\n",
       "1  27.30   30.5\n",
       "2  33.30   16.9\n",
       "3  44.15   16.0\n",
       "4  11.50  102.2\n",
       "5  29.05   38.4\n",
       "6  13.90   41.3\n",
       "7  29.05   43.9\n",
       "8  33.10   28.3\n",
       "9  44.20   33.9"
      ]
     },
     "execution_count": 26,
     "metadata": {},
     "output_type": "execute_result"
    }
   ],
   "source": [
    "observation = pd.DataFrame(imp, columns = ['observation','pays','natal','urb'])\n",
    "nouvelletable=observation[['natal','urb']]\n",
    "nouvelletable"
   ]
  },
  {
   "cell_type": "code",
   "execution_count": 27,
   "id": "684b26bd",
   "metadata": {},
   "outputs": [],
   "source": [
    "nouvelletable=zscore(nouvelletable)"
   ]
  },
  {
   "cell_type": "code",
   "execution_count": 28,
   "id": "70f4d7be",
   "metadata": {},
   "outputs": [
    {
     "data": {
      "text/html": [
       "<div>\n",
       "<style scoped>\n",
       "    .dataframe tbody tr th:only-of-type {\n",
       "        vertical-align: middle;\n",
       "    }\n",
       "\n",
       "    .dataframe tbody tr th {\n",
       "        vertical-align: top;\n",
       "    }\n",
       "\n",
       "    .dataframe thead th {\n",
       "        text-align: right;\n",
       "    }\n",
       "</style>\n",
       "<table border=\"1\" class=\"dataframe\">\n",
       "  <thead>\n",
       "    <tr style=\"text-align: right;\">\n",
       "      <th></th>\n",
       "      <th>natal</th>\n",
       "      <th>urb</th>\n",
       "    </tr>\n",
       "  </thead>\n",
       "  <tbody>\n",
       "    <tr>\n",
       "      <th>0</th>\n",
       "      <td>1.805134</td>\n",
       "      <td>-0.859377</td>\n",
       "    </tr>\n",
       "    <tr>\n",
       "      <th>1</th>\n",
       "      <td>-0.374086</td>\n",
       "      <td>-0.261659</td>\n",
       "    </tr>\n",
       "    <tr>\n",
       "      <th>2</th>\n",
       "      <td>0.097947</td>\n",
       "      <td>-0.830118</td>\n",
       "    </tr>\n",
       "    <tr>\n",
       "      <th>3</th>\n",
       "      <td>0.951540</td>\n",
       "      <td>-0.867737</td>\n",
       "    </tr>\n",
       "    <tr>\n",
       "      <th>4</th>\n",
       "      <td>-1.617107</td>\n",
       "      <td>2.735294</td>\n",
       "    </tr>\n",
       "    <tr>\n",
       "      <th>5</th>\n",
       "      <td>-0.236410</td>\n",
       "      <td>0.068550</td>\n",
       "    </tr>\n",
       "    <tr>\n",
       "      <th>6</th>\n",
       "      <td>-1.428294</td>\n",
       "      <td>0.189765</td>\n",
       "    </tr>\n",
       "    <tr>\n",
       "      <th>7</th>\n",
       "      <td>-0.236410</td>\n",
       "      <td>0.298441</td>\n",
       "    </tr>\n",
       "    <tr>\n",
       "      <th>8</th>\n",
       "      <td>0.082212</td>\n",
       "      <td>-0.353615</td>\n",
       "    </tr>\n",
       "    <tr>\n",
       "      <th>9</th>\n",
       "      <td>0.955474</td>\n",
       "      <td>-0.119544</td>\n",
       "    </tr>\n",
       "  </tbody>\n",
       "</table>\n",
       "</div>"
      ],
      "text/plain": [
       "      natal       urb\n",
       "0  1.805134 -0.859377\n",
       "1 -0.374086 -0.261659\n",
       "2  0.097947 -0.830118\n",
       "3  0.951540 -0.867737\n",
       "4 -1.617107  2.735294\n",
       "5 -0.236410  0.068550\n",
       "6 -1.428294  0.189765\n",
       "7 -0.236410  0.298441\n",
       "8  0.082212 -0.353615\n",
       "9  0.955474 -0.119544"
      ]
     },
     "metadata": {},
     "output_type": "display_data"
    }
   ],
   "source": [
    "display(nouvelletable)"
   ]
  },
  {
   "cell_type": "markdown",
   "id": "f8545bc5",
   "metadata": {},
   "source": [
    "# k_means"
   ]
  },
  {
   "cell_type": "code",
   "execution_count": 29,
   "id": "ebe698a6",
   "metadata": {},
   "outputs": [
    {
     "data": {
      "image/png": "[encoded data removed]",
      "text/plain": [
       "<Figure size 576x432 with 1 Axes>"
      ]
     },
     "metadata": {},
     "output_type": "display_data"
    }
   ],
   "source": [
    "plt.figure(figsize=(8,6))\n",
    "plt.scatter(nouvelletable.natal, nouvelletable.urb)\n",
    "plt.show()"
   ]
  },
  {
   "cell_type": "code",
   "execution_count": 30,
   "id": "312fbd67",
   "metadata": {},
   "outputs": [],
   "source": [
    "from sklearn.cluster import KMeans\n",
    "kmeans= KMeans(n_clusters = 2)\n",
    "\n",
    "model=kmeans.fit(nouvelletable)"
   ]
  },
  {
   "cell_type": "code",
   "execution_count": 32,
   "id": "532884d3",
   "metadata": {},
   "outputs": [
    {
     "name": "stdout",
     "output_type": "stream",
     "text": [
      "[[ 0.17967859 -0.30392151]\n",
      " [-1.61710728  2.7352936 ]]\n"
     ]
    },
    {
     "data": {
      "image/png": "[encoded data removed]",
      "text/plain": [
       "<Figure size 576x432 with 1 Axes>"
      ]
     },
     "metadata": {},
     "output_type": "display_data"
    }
   ],
   "source": [
    "colors=[\"red\"]\n",
    "plt.figure(figsize=(8,6))\n",
    "for i in range(np.max(model.labels_)):\n",
    "    plt.scatter(nouvelletable[model.labels_==i].natal, nouvelletable[model.labels_==i].urb, label=i, c=colors[i], alpha=0.5, s=40)\n",
    "plt.scatter(model.cluster_centers_[:,0], model.cluster_centers_[:,1], label='Centers', c=\"black\", s=100)\n",
    "print(model.cluster_centers_)\n",
    "plt.title(\"K-Means Clustering of iris\",size=20)\n",
    "plt.show()"
   ]
  },
  {
   "cell_type": "code",
   "execution_count": null,
   "id": "13a9ad25",
   "metadata": {},
   "outputs": [],
   "source": []
  }
 ],
 "metadata": {
  "kernelspec": {
   "display_name": "Python 3 (ipykernel)",
   "language": "python",
   "name": "python3"
  },
  "language_info": {
   "codemirror_mode": {
    "name": "ipython",
    "version": 3
   },
   "file_extension": ".py",
   "mimetype": "text/x-python",
   "name": "python",
   "nbconvert_exporter": "python",
   "pygments_lexer": "ipython3",
   "version": "3.9.7"
  }
 },
 "nbformat": 4,
 "nbformat_minor": 5
}
